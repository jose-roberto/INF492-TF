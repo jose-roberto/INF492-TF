{
 "cells": [
  {
   "cell_type": "markdown",
   "id": "d0c20125-3072-4f0b-b3c8-c3def2eb87f5",
   "metadata": {},
   "source": [
    "# Resize"
   ]
  },
  {
   "cell_type": "code",
   "execution_count": 2,
   "id": "e7d5e488-52ab-49e1-b518-3ca379c7cb5c",
   "metadata": {},
   "outputs": [
    {
     "name": "stdout",
     "output_type": "stream",
     "text": [
      "Resize no split: test\n"
     ]
    }
   ],
   "source": [
    "import os\n",
    "from PIL import Image\n",
    "\n",
    "dir_paths = {\n",
    "    \"train\": \"../dataset/2021_train_mini\",\n",
    "    \"valid\": \"../dataset/2021_valid\"\n",
    "}\n",
    "\n",
    "target_size = (256, 256)\n",
    "jpeg_quality = 90 \n",
    "\n",
    "def preprocess_split(src_root):\n",
    "    for root, _, files in os.walk(src_root):\n",
    "        for fname in files:\n",
    "            if not fname.lower().endswith((\".jpg\", \".jpeg\", \".png\")):\n",
    "                continue\n",
    "                \n",
    "            src_path = os.path.join(root, fname)\n",
    "            \n",
    "            with Image.open(src_path) as img:\n",
    "                img = img.convert(\"RGB\")\n",
    "                resized = img.resize(target_size, Image.LANCZOS)\n",
    "                resized.save(src_path, format=\"JPEG\", quality=jpeg_quality)\n",
    "\n",
    "if __name__ == \"__main__\":\n",
    "    for split in (dir_paths):\n",
    "        print(f\"Resize no split: {split}\")\n",
    "        preprocess_split(dir_paths[split])"
   ]
  },
  {
   "cell_type": "code",
   "execution_count": null,
   "id": "69dd0dd8-53c7-49cf-9dbb-2ba96d714de1",
   "metadata": {},
   "outputs": [],
   "source": []
  }
 ],
 "metadata": {
  "kernelspec": {
   "display_name": "Python (inf492)",
   "language": "python",
   "name": "inf492"
  },
  "language_info": {
   "codemirror_mode": {
    "name": "ipython",
    "version": 3
   },
   "file_extension": ".py",
   "mimetype": "text/x-python",
   "name": "python",
   "nbconvert_exporter": "python",
   "pygments_lexer": "ipython3",
   "version": "3.11.13"
  }
 },
 "nbformat": 4,
 "nbformat_minor": 5
}
