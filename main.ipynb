{
 "cells": [
  {
   "cell_type": "markdown",
   "id": "3ce36f64",
   "metadata": {},
   "source": [
    "# Imports"
   ]
  },
  {
   "cell_type": "code",
   "execution_count": 2,
   "id": "d16b58c3",
   "metadata": {},
   "outputs": [],
   "source": [
    "import torch\n",
    "\n",
    "from torchvision import transforms\n",
    "from torchvision.datasets import INaturalist\n",
    "from torch.utils.data import DataLoader\n",
    "\n",
    "from torchvision.models import efficientnet_b3, EfficientNet_B3_Weights"
   ]
  },
  {
   "cell_type": "markdown",
   "id": "c88fdb16",
   "metadata": {},
   "source": [
    "# Device"
   ]
  },
  {
   "cell_type": "code",
   "execution_count": 3,
   "id": "8a03701e",
   "metadata": {},
   "outputs": [
    {
     "name": "stdout",
     "output_type": "stream",
     "text": [
      "2.5.1\n",
      "None\n",
      "None\n",
      "Usando CPU\n"
     ]
    }
   ],
   "source": [
    "print(torch.__version__)\n",
    "print(torch.version.cuda)\n",
    "print(torch.backends.cudnn.version())\n",
    "\n",
    "if torch.cuda.is_available():\n",
    "    device = torch.device('cuda')\n",
    "    print(\"Usando GPU:\", torch.cuda.get_device_name(0))\n",
    "else:\n",
    "    device = torch.device('cpu')\n",
    "    print(\"Usando CPU\")\n",
    "\n"
   ]
  },
  {
   "cell_type": "markdown",
   "id": "852cfbd7",
   "metadata": {},
   "source": [
    "# Functions"
   ]
  },
  {
   "cell_type": "code",
   "execution_count": null,
   "id": "58fe4ee4",
   "metadata": {},
   "outputs": [],
   "source": []
  },
  {
   "cell_type": "markdown",
   "id": "bfc90025",
   "metadata": {},
   "source": [
    "# Dataset"
   ]
  },
  {
   "cell_type": "code",
   "execution_count": 42,
   "id": "1ddeea19",
   "metadata": {},
   "outputs": [
    {
     "name": "stdout",
     "output_type": "stream",
     "text": [
      "Dataset INaturalist\n",
      "    Number of datapoints: 500000\n",
      "    Root location: iNaturalist2021/2021_train_mini\n",
      "    StandardTransform\n",
      "Transform: Compose(\n",
      "               Resize(size=(224, 224), interpolation=bilinear, max_size=None, antialias=True)\n",
      "               ToTensor()\n",
      "           )\n",
      "\n",
      "Train sample view:\n",
      "torch.Size([3, 224, 224])\n",
      "\n",
      "Dataset INaturalist\n",
      "    Number of datapoints: 100000\n",
      "    Root location: iNaturalist2021/2021_valid\n",
      "    StandardTransform\n",
      "Transform: Compose(\n",
      "               Resize(size=(224, 224), interpolation=bilinear, max_size=None, antialias=True)\n",
      "               ToTensor()\n",
      "           )\n",
      "\n",
      "Val sample view:\n",
      "torch.Size([3, 224, 224])\n",
      "\n"
     ]
    }
   ],
   "source": [
    "transform = transforms.Compose([\n",
    "    transforms.Resize((224, 224)),        \n",
    "    transforms.ToTensor()               \n",
    "    # transforms.Normalize(                 \n",
    "    #     mean=[0.485, 0.456, 0.406],\n",
    "    #     std=[0.229, 0.224, 0.225],\n",
    "    # ),\n",
    "])\n",
    "\n",
    "train_dataset = INaturalist(\n",
    "    root='iNaturalist2021/',\n",
    "    version='2021_train_mini',\n",
    "    transform=transform,\n",
    "    download=False\n",
    ")\n",
    "\n",
    "val_dataset = INaturalist(\n",
    "    root='iNaturalist2021/',\n",
    "    version='2021_valid',\n",
    "    transform=transform,\n",
    "    download=False\n",
    ")\n",
    "\n",
    "print(train_dataset)\n",
    "print(\"\\nTrain sample view:\")\n",
    "train_sample = train_dataset[0]\n",
    "print(train_sample[0].shape)\n",
    "print()\n",
    "\n",
    "print(val_dataset)\n",
    "print(\"\\nVal sample view:\")\n",
    "val_sample = val_dataset[0]\n",
    "print(val_sample[0].shape)\n",
    "print()"
   ]
  },
  {
   "cell_type": "code",
   "execution_count": null,
   "id": "47c50f0a",
   "metadata": {},
   "outputs": [],
   "source": [
    "workers = 6\n",
    "\n",
    "train_dataloader = DataLoader(\n",
    "    train_dataset,\n",
    "    batch_size=2,\n",
    "    shuffle=True,\n",
    "    num_workers=workers,\n",
    "    pin_memory=True\n",
    ")\n",
    "\n",
    "val_dataloader = DataLoader(\n",
    "    val_dataset,\n",
    "    batch_size=2,\n",
    "    shuffle=False,\n",
    "    num_workers=workers,\n",
    "    pin_memory=True\n",
    ")"
   ]
  },
  {
   "cell_type": "markdown",
   "id": "bb467f9e",
   "metadata": {},
   "source": [
    "# Architecture"
   ]
  },
  {
   "cell_type": "code",
   "execution_count": 46,
   "id": "db5265ef",
   "metadata": {},
   "outputs": [
    {
     "name": "stderr",
     "output_type": "stream",
     "text": [
      "Downloading: \"https://download.pytorch.org/models/efficientnet_b3_rwightman-b3899882.pth\" to C:\\Users\\sigma/.cache\\torch\\hub\\checkpoints\\efficientnet_b3_rwightman-b3899882.pth\n",
      "100.0%\n"
     ]
    }
   ],
   "source": [
    "weights = EfficientNet_B3_Weights.IMAGENET1K_V1\n",
    "\n",
    "model = efficientnet_b3(weights=weights)"
   ]
  },
  {
   "cell_type": "markdown",
   "id": "05ddf664",
   "metadata": {},
   "source": [
    "# Train"
   ]
  },
  {
   "cell_type": "code",
   "execution_count": null,
   "id": "ed3c0853",
   "metadata": {},
   "outputs": [],
   "source": []
  },
  {
   "cell_type": "markdown",
   "id": "d01ad08c",
   "metadata": {},
   "source": [
    "# Validation"
   ]
  },
  {
   "cell_type": "code",
   "execution_count": null,
   "id": "7cdf9aeb",
   "metadata": {},
   "outputs": [],
   "source": []
  },
  {
   "cell_type": "markdown",
   "id": "1b212b97",
   "metadata": {},
   "source": [
    "# Run"
   ]
  },
  {
   "cell_type": "code",
   "execution_count": null,
   "id": "4cf7f9f5",
   "metadata": {},
   "outputs": [],
   "source": []
  },
  {
   "cell_type": "markdown",
   "id": "0015ab99",
   "metadata": {},
   "source": [
    "# Test"
   ]
  },
  {
   "cell_type": "code",
   "execution_count": null,
   "id": "0f01f6cf",
   "metadata": {},
   "outputs": [],
   "source": []
  }
 ],
 "metadata": {
  "kernelspec": {
   "display_name": "inf492tf",
   "language": "python",
   "name": "python3"
  },
  "language_info": {
   "codemirror_mode": {
    "name": "ipython",
    "version": 3
   },
   "file_extension": ".py",
   "mimetype": "text/x-python",
   "name": "python",
   "nbconvert_exporter": "python",
   "pygments_lexer": "ipython3",
   "version": "3.12.9"
  }
 },
 "nbformat": 4,
 "nbformat_minor": 5
}
